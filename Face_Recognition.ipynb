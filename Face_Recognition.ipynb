{
 "cells": [
  {
   "cell_type": "code",
   "execution_count": 7,
   "metadata": {},
   "outputs": [],
   "source": [
    "import cv2\n",
    "import numpy as np\n",
    "import os\n",
    "\n",
    "face_cascade = cv2.CascadeClassifier(cv2.data.haarcascades + 'haarcascade_frontalface_default.xml')\n",
    "eye_cascade = cv2.CascadeClassifier(cv2.data.haarcascades+'haarcascade_eye.xml')"
   ]
  },
  {
   "cell_type": "code",
   "execution_count": null,
   "metadata": {},
   "outputs": [],
   "source": [
    "\n",
    "\n",
    "directory = 'C:\\\\Users\\\\Nishant kumar\\\\Desktop\\\\ML\\\\OpenCV\\\\Face_recognition\\\\FaceData\\\\'\n",
    "filename = input('Enter your name')\n",
    "\n",
    "cap = cv2.VideoCapture(0)\n",
    "skip=0\n",
    "face_data=[]\n",
    "\n",
    "while True:\n",
    "    ret,img=cap.read()\n",
    "    if ret==False:\n",
    "        continue\n",
    "    \n",
    "    faces = face_cascade.detectMultiScale(img2,1.3,5)\n",
    "\n",
    "    #To get the biggest face on the screen\n",
    "    \n",
    "    sorted(faces,key=lambda f:f[2]*f[3])\n",
    "    \n",
    "    #for face in faces[-1:]:\n",
    "    if len(faces)==0:\n",
    "        continue\n",
    "    x,y,w,h=faces[-1]\n",
    "    cv2.rectangle(img,(x,y),(x+w,y+h),(0,255,0),thickness=2)\n",
    "        \n",
    "    #cropping the face\n",
    "    offset=10\n",
    "    face_section=img[y-offset:y+h+offset,x-offset:x+w+offset]\n",
    "    face_section=cv2.resize(face_section,(100,100))\n",
    "    skip+=1\n",
    "    if skip%10==0:\n",
    "        face_data.append(face_section)\n",
    "        print(len(face_data))\n",
    "        \n",
    "    \n",
    "        \n",
    "    \n",
    "    cv2.imshow('faces',img)\n",
    "    \n",
    "    \n",
    "    \n",
    "    \n",
    "    \n",
    "    key_pressed = cv2.waitKey(1) &0xFF\n",
    "    if key_pressed==ord('q'):\n",
    "        break\n",
    "cap.release()\n",
    "cv2.destroyAllWindows()\n",
    "\n",
    "\n",
    "\n",
    "#converting into array \n",
    "face_data=np.asarray(face_data)\n",
    "face_data=face_data.reshape((face_data.shape[0],-1))\n",
    "\n",
    "np.save(directory+filename+'.npy',face_data)\n"
   ]
  },
  {
   "cell_type": "code",
   "execution_count": 8,
   "metadata": {},
   "outputs": [],
   "source": [
    "face_data=[]\n",
    "face_label=[]\n",
    "face_dic={}\n",
    "label=0\n",
    "for fx in os.listdir('C:\\\\Users\\\\Nishant kumar\\\\Desktop\\\\ML\\\\OpenCV\\\\Face_recognition\\\\FaceData'):\n",
    "    if fx.endswith('.npy'):\n",
    "        df1 = np.load('C:\\\\Users\\\\Nishant kumar\\\\Desktop\\\\ML\\\\OpenCV\\\\Face_recognition\\\\FaceData\\\\'+fx)\n",
    "        df1.reshape(-1,df1.shape[0])\n",
    "        face_data.append(df1)\n",
    "        df2 = label*np.ones(df1.shape[0])\n",
    "        face_dic[label]=fx[0:len(fx)-4]\n",
    "        label+=1\n",
    "        face_label.append(df2)\n",
    "face_data=np.concatenate(face_data,axis=0)\n",
    "face_label=np.concatenate(face_label,axis=0).reshape((-1,1))\n",
    "\n",
    "trainset = np.concatenate((face_data,face_label),axis=1)"
   ]
  },
  {
   "cell_type": "code",
   "execution_count": 9,
   "metadata": {},
   "outputs": [],
   "source": [
    "###distance\n",
    "def distance(x1,x2):\n",
    "    return np.sqrt(sum((x1-x2)**2))\n",
    "\n",
    "###KNN\n",
    "def knn(trainset,test,k=5):\n",
    "    vals=[]\n",
    "    X = trainset[:,0:-1]\n",
    "    Y= trainset[:,-1]\n",
    "    for i in range(len(X)):\n",
    "        d1=distance(test,X[i])\n",
    "        vals.append((d1,Y[i]))\n",
    "    \n",
    "    vals=sorted(vals)\n",
    "    vals=np.array(vals)\n",
    "    vals=vals[0:k]\n",
    "    \n",
    "    new_vals = np.unique(vals[:,1],return_counts=True)\n",
    "    index = new_vals[1].argmax()\n",
    "    pred = new_vals[0][index]\n",
    "\n",
    "    return pred"
   ]
  },
  {
   "cell_type": "code",
   "execution_count": 11,
   "metadata": {},
   "outputs": [],
   "source": [
    "####test data\n",
    "\n",
    "cap = cv2.VideoCapture(0)\n",
    "while True:\n",
    "    ret,img = cap.read()\n",
    "    if ret==False:\n",
    "        continue\n",
    "    faces = face_cascade.detectMultiScale(img,1.3,5)\n",
    "    sorted(faces,key=lambda f:f[2]*f[3])\n",
    "    \n",
    "    #for face in faces[-1:]:\n",
    "    if len(faces)==0:\n",
    "        continue\n",
    "    x,y,w,h=faces[-1]\n",
    "    \n",
    "    #cropping the face\n",
    "    offset=10\n",
    "    face_section=img[y-offset:y+h+offset,x-offset:x+w+offset]\n",
    "    face_section=cv2.resize(face_section,(100,100))\n",
    "    \n",
    "    ans=int(knn(trainset,face_section.flatten()))\n",
    "    ans_name = face_dic[ans]\n",
    "    \n",
    "    \n",
    "    cv2.putText(img,ans_name,(x-10,y-10),cv2.FONT_HERSHEY_SIMPLEX,1,(255,0,255),2,cv2.LINE_AA)\n",
    "    cv2.rectangle(img,(x,y),(x+w,y+h),(0,255,0),thickness=2)\n",
    "    \n",
    "    \n",
    "    \n",
    "    cv2.imshow('faces',img)\n",
    "    key_pressed = cv2.waitKey(1) &0xFF\n",
    "    if key_pressed==ord('q'):\n",
    "        break\n",
    "cap.release()\n",
    "cv2.destroyAllWindows()"
   ]
  },
  {
   "cell_type": "code",
   "execution_count": null,
   "metadata": {},
   "outputs": [],
   "source": []
  },
  {
   "cell_type": "code",
   "execution_count": null,
   "metadata": {},
   "outputs": [],
   "source": []
  },
  {
   "cell_type": "code",
   "execution_count": null,
   "metadata": {},
   "outputs": [],
   "source": []
  },
  {
   "cell_type": "code",
   "execution_count": null,
   "metadata": {},
   "outputs": [],
   "source": []
  },
  {
   "cell_type": "markdown",
   "metadata": {},
   "source": []
  },
  {
   "cell_type": "code",
   "execution_count": null,
   "metadata": {},
   "outputs": [],
   "source": []
  },
  {
   "cell_type": "code",
   "execution_count": null,
   "metadata": {},
   "outputs": [],
   "source": []
  },
  {
   "cell_type": "code",
   "execution_count": null,
   "metadata": {},
   "outputs": [],
   "source": []
  },
  {
   "cell_type": "code",
   "execution_count": null,
   "metadata": {},
   "outputs": [],
   "source": []
  },
  {
   "cell_type": "code",
   "execution_count": null,
   "metadata": {},
   "outputs": [],
   "source": []
  },
  {
   "cell_type": "code",
   "execution_count": null,
   "metadata": {},
   "outputs": [],
   "source": []
  },
  {
   "cell_type": "code",
   "execution_count": null,
   "metadata": {},
   "outputs": [],
   "source": []
  },
  {
   "cell_type": "code",
   "execution_count": null,
   "metadata": {},
   "outputs": [],
   "source": []
  },
  {
   "cell_type": "code",
   "execution_count": null,
   "metadata": {},
   "outputs": [],
   "source": []
  },
  {
   "cell_type": "code",
   "execution_count": null,
   "metadata": {},
   "outputs": [],
   "source": []
  },
  {
   "cell_type": "code",
   "execution_count": null,
   "metadata": {},
   "outputs": [],
   "source": []
  },
  {
   "cell_type": "code",
   "execution_count": null,
   "metadata": {},
   "outputs": [],
   "source": [
    "\n",
    "\n",
    "\n"
   ]
  },
  {
   "cell_type": "code",
   "execution_count": null,
   "metadata": {},
   "outputs": [],
   "source": []
  },
  {
   "cell_type": "code",
   "execution_count": null,
   "metadata": {},
   "outputs": [],
   "source": []
  },
  {
   "cell_type": "code",
   "execution_count": null,
   "metadata": {},
   "outputs": [],
   "source": []
  },
  {
   "cell_type": "code",
   "execution_count": null,
   "metadata": {},
   "outputs": [],
   "source": []
  },
  {
   "cell_type": "code",
   "execution_count": null,
   "metadata": {},
   "outputs": [],
   "source": []
  },
  {
   "cell_type": "code",
   "execution_count": null,
   "metadata": {},
   "outputs": [],
   "source": [
    "import os\n",
    "os.listdir('C:\\\\Users\\\\Nishant kumar\\\\Desktop\\\\ML\\\\OpenCV\\\\Face_recognition\\\\FaceData')"
   ]
  },
  {
   "cell_type": "code",
   "execution_count": null,
   "metadata": {},
   "outputs": [],
   "source": [
    "\n",
    "    "
   ]
  },
  {
   "cell_type": "code",
   "execution_count": null,
   "metadata": {},
   "outputs": [],
   "source": []
  },
  {
   "cell_type": "code",
   "execution_count": null,
   "metadata": {},
   "outputs": [],
   "source": [
    "\n",
    "\n"
   ]
  },
  {
   "cell_type": "code",
   "execution_count": null,
   "metadata": {},
   "outputs": [],
   "source": [
    "img.shape"
   ]
  },
  {
   "cell_type": "code",
   "execution_count": null,
   "metadata": {},
   "outputs": [],
   "source": [
    "df1[300]"
   ]
  },
  {
   "cell_type": "code",
   "execution_count": null,
   "metadata": {},
   "outputs": [],
   "source": [
    "df2[30]"
   ]
  },
  {
   "cell_type": "code",
   "execution_count": null,
   "metadata": {},
   "outputs": [],
   "source": []
  }
 ],
 "metadata": {
  "kernelspec": {
   "display_name": "Python 3",
   "language": "python",
   "name": "python3"
  },
  "language_info": {
   "codemirror_mode": {
    "name": "ipython",
    "version": 3
   },
   "file_extension": ".py",
   "mimetype": "text/x-python",
   "name": "python",
   "nbconvert_exporter": "python",
   "pygments_lexer": "ipython3",
   "version": "3.7.0"
  }
 },
 "nbformat": 4,
 "nbformat_minor": 2
}
